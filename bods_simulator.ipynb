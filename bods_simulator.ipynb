{
 "cells": [
  {
   "cell_type": "markdown",
   "metadata": {},
   "source": [
    "# BODS simulator [DRAFT]\n",
    "\n",
    "This notebook contains code that simulates BODS-like data from a specified number of owners. \n",
    "\n",
    "**DISCLAIMER: This is very much in development and will not produce valid BODS data in all circumstances.** Some additional, non-comprehensive points:\n",
    "\n",
    "- Currently writes BODS 0.2 data\n",
    "- Currently doesn't deal with component IDs or indirect interests\n",
    "- All persons and companies have made-up names, and are from the UK\n",
    "- Currently each person can only own one company but companies can be owned by mutiple people or entities"
   ]
  },
  {
   "cell_type": "markdown",
   "metadata": {},
   "source": [
    "## Setup"
   ]
  },
  {
   "cell_type": "markdown",
   "metadata": {},
   "source": [
    "### GOOGLE COLAB ONLY - import files"
   ]
  },
  {
   "cell_type": "code",
   "execution_count": null,
   "metadata": {},
   "outputs": [],
   "source": [
    "!wget https://raw.githubusercontent.com/lgs85/bods_simulator/main/bods_simulator.py\n",
    "!wget https://raw.githubusercontent.com/lgs85/bods_simulator/main/requirements.txt"
   ]
  },
  {
   "cell_type": "markdown",
   "metadata": {},
   "source": [
    "### Install dependencies\n",
    "\n",
    "This section only needs to be run once (or once per session if using Colab)"
   ]
  },
  {
   "cell_type": "code",
   "execution_count": null,
   "metadata": {},
   "outputs": [],
   "source": [
    "%pip install -r requirements.txt"
   ]
  },
  {
   "cell_type": "markdown",
   "metadata": {},
   "source": [
    "### Import functions\n",
    "\n",
    "Import the `sim_bo` function from the `bods_simulator` module"
   ]
  },
  {
   "cell_type": "code",
   "execution_count": null,
   "metadata": {},
   "outputs": [],
   "source": [
    "import bods_simulator as bs\n",
    "import matplotlib.pyplot as plt\n",
    "import igraph as ig\n",
    "import json"
   ]
  },
  {
   "cell_type": "markdown",
   "metadata": {},
   "source": [
    "## Simulate an ownership chain with a single beneficial owner"
   ]
  },
  {
   "cell_type": "markdown",
   "metadata": {},
   "source": [
    "### Run the function\n",
    "\n",
    "The `sim_bo` function takes three *arguments* to simulate beneficial ownership data for a single declaring entity. These are:\n",
    "- `n_person_owners`: the number of natural persons involved in ownership of the declaring entity. Must be a whole number.\n",
    "- `n_entity_owners`: the number of entities involved in ownership of the declaring entity. Must be a whole number.\n",
    "- `format` is a rudimentary option for varying how you want your ownership chain to look, described below. Must be either 'long' or 'wide'\n",
    "\n",
    "When running the function, two objects are returned. These are (in order):\n",
    "- An `igraph` graph object, which is a network of the ownership chain\n",
    "- A list of BODS statements\n",
    "\n",
    "To run the function and return the graph and list of statements to two objects names `g` and `statements`, respectively, we use the following:"
   ]
  },
  {
   "cell_type": "code",
   "execution_count": 9,
   "metadata": {},
   "outputs": [],
   "source": [
    "g, statements = bs.sim_bo(n_person_owners = 1,n_entity_owners = 0,format = 'wide')"
   ]
  },
  {
   "cell_type": "markdown",
   "metadata": {},
   "source": [
    "### Explore the graph output\n",
    "\n",
    "We can plot the graph to have a look at the data using igraph's plot function. This confirms we have an ownership chain involving one company (the declaring company) and one person"
   ]
  },
  {
   "cell_type": "code",
   "execution_count": null,
   "metadata": {},
   "outputs": [],
   "source": [
    "fig,ax = plt.subplots()\n",
    "plt.axis('off')\n",
    "ig.plot(g,target = ax,vertex_color = g.vs['color'],vertex_label = g.vs['label'])"
   ]
  },
  {
   "cell_type": "markdown",
   "metadata": {},
   "source": [
    "### Explore and write the BODS statements\n",
    "\n",
    "The statments are returned as python lists and dictionaries. To display in JSON format we can use `dumps` from the `json` library. You should be able to run and copy the output below and paste it into the [BODS data review tool](https://datareview.openownership.org) and (hopefully!) pass the checks. You should also be able to paste the output into the [BODS visualiser](https://www.openownership.org/en/publications/beneficial-ownership-visualisation-system/bods-data-visualiser/)"
   ]
  },
  {
   "cell_type": "code",
   "execution_count": null,
   "metadata": {},
   "outputs": [],
   "source": [
    "print(json.dumps(statements,indent=2))"
   ]
  },
  {
   "cell_type": "markdown",
   "metadata": {},
   "source": [
    "Finally you can write to a file and download the json if you wish, to explore in your favourite text editor, with the following:"
   ]
  },
  {
   "cell_type": "code",
   "execution_count": 16,
   "metadata": {},
   "outputs": [],
   "source": [
    "with open('myfile.json', 'w') as f:\n",
    "    json.dump(statements, f,indent = 2)\n",
    "#files.download('myfile.json') #uncomment if using colab"
   ]
  },
  {
   "cell_type": "markdown",
   "metadata": {},
   "source": [
    "## Simulate an ownership chain with multiple owners in 'wide' format"
   ]
  },
  {
   "cell_type": "markdown",
   "metadata": {},
   "source": [
    "### Run and plot\n",
    "\n",
    "Here we'll use the same code as above to explore more complex ownership chains. Let's simulate a company with 5 entity owners and 5 person owners, in wide format, and plot the output as above. Try running this a few times and you'll say that the graph is slightly different each time. This is because there is an element of randomness in ownership statements where larger chains are simulated."
   ]
  },
  {
   "cell_type": "code",
   "execution_count": null,
   "metadata": {},
   "outputs": [],
   "source": [
    "g,statements = bs.sim_bo(n_person_owners = 5,n_entity_owners = 5,format = 'wide')\n",
    "fig,ax = plt.subplots()\n",
    "plt.axis('off')\n",
    "ig.plot(g,target = ax,vertex_color = g.vs['color'],vertex_label = g.vs['label'])"
   ]
  },
  {
   "cell_type": "markdown",
   "metadata": {},
   "source": [
    "### Get JSON and check\n",
    "\n",
    "Print the JSON to screen and try running against the [BODS data review tool](https://datareview.openownership.org) and the [BODS visualiser](https://www.openownership.org/en/publications/beneficial-ownership-visualisation-system/bods-data-visualiser/). For some of these more complex chains we might get some warnings in the data review tool. This is because the complexities of indirect ownership haven't yet been captured in the simulations."
   ]
  },
  {
   "cell_type": "code",
   "execution_count": null,
   "metadata": {},
   "outputs": [],
   "source": [
    "print(json.dumps(statements,indent=2))"
   ]
  },
  {
   "cell_type": "markdown",
   "metadata": {},
   "source": [
    "## Simulate an ownership chain with multiple owners in 'long' format"
   ]
  },
  {
   "cell_type": "markdown",
   "metadata": {},
   "source": [
    "### Run and plot\n",
    "Long format only makes a difference where there is at least one entity owner, and structures the ownership chain as a long chain of companies with all natural persons at the end. If we run the same example as above but in long format we get the following:"
   ]
  },
  {
   "cell_type": "code",
   "execution_count": null,
   "metadata": {},
   "outputs": [],
   "source": [
    "g,statements = bs.sim_bo(n_person_owners = 5,n_entity_owners = 5,format = 'long')\n",
    "fig,ax = plt.subplots()\n",
    "plt.axis('off')\n",
    "ig.plot(g,target = ax,vertex_color = g.vs['color'],vertex_label = g.vs['label'])"
   ]
  },
  {
   "cell_type": "markdown",
   "metadata": {},
   "source": [
    "### Get JSON and check\n",
    "\n",
    "Print the JSON to screen and try running against the [BODS data review tool](https://datareview.openownership.org) and the [BODS visualiser](https://www.openownership.org/en/publications/beneficial-ownership-visualisation-system/bods-data-visualiser/). Again, these won't be 100% BODS compliant at the moment but should provide an idea."
   ]
  },
  {
   "cell_type": "code",
   "execution_count": null,
   "metadata": {},
   "outputs": [],
   "source": [
    "print(json.dumps(statements,indent=2))"
   ]
  }
 ],
 "metadata": {
  "interpreter": {
   "hash": "aee8b7b246df8f9039afb4144a1f6fd8d2ca17a180786b69acc140d282b71a49"
  },
  "kernelspec": {
   "display_name": "Python 3.10.0 64-bit",
   "language": "python",
   "name": "python3"
  },
  "language_info": {
   "codemirror_mode": {
    "name": "ipython",
    "version": 3
   },
   "file_extension": ".py",
   "mimetype": "text/x-python",
   "name": "python",
   "nbconvert_exporter": "python",
   "pygments_lexer": "ipython3",
   "version": "3.10.0"
  },
  "orig_nbformat": 4
 },
 "nbformat": 4,
 "nbformat_minor": 2
}
